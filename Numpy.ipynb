{
  "nbformat": 4,
  "nbformat_minor": 0,
  "metadata": {
    "colab": {
      "provenance": []
    },
    "kernelspec": {
      "name": "python3",
      "display_name": "Python 3"
    },
    "language_info": {
      "name": "python"
    }
  },
  "cells": [
    {
      "cell_type": "markdown",
      "source": [
        "#**Numpy**\n",
        "- NumPy is a Python library used for working with arrays.\n",
        "\n",
        "- It also has functions for working in domain of linear algebra, fourier transform, and matrices.- NumPy was created in 2005 by Travis Oliphant. It is an open source project and you can use it freely.\n",
        "\n",
        "- NumPy stands for Numerical Python.\n",
        "\n",
        "- NumPy (Numerical Python) is an open source Python library that’s widely used in science and engineering.\n",
        "\n",
        "- The NumPy library contains multidimensional array data structures, such as the homogeneous, N-dimensional ndarray, and a large library of functions that operate efficiently on these data structures. ython.\n",
        "\n",
        "#Installation of NumPy\n",
        "- If you have Python and PIP already installed on a system, then installation of NumPy is very easy.\n",
        "- Install it using this command:"
      ],
      "metadata": {
        "id": "BXGkQIZfILEz"
      }
    },
    {
      "cell_type": "code",
      "execution_count": 1,
      "metadata": {
        "colab": {
          "base_uri": "https://localhost:8080/"
        },
        "id": "byfqhgldHzjS",
        "outputId": "6774ce07-0e5b-4172-82b5-ae260a20695f"
      },
      "outputs": [
        {
          "output_type": "stream",
          "name": "stdout",
          "text": [
            "Requirement already satisfied: numpy in /usr/local/lib/python3.10/dist-packages (1.26.4)\n"
          ]
        }
      ],
      "source": [
        "!pip install numpy"
      ]
    },
    {
      "cell_type": "markdown",
      "source": [
        "#How to import NumPy\n",
        "- Once NumPy is installed, import it in your applications by adding the import keyword:\n"
      ],
      "metadata": {
        "id": "3FVpJOkwJBYJ"
      }
    },
    {
      "cell_type": "code",
      "source": [
        "import numpy as np\n"
      ],
      "metadata": {
        "id": "ZQqh1QgMJIVF"
      },
      "execution_count": 2,
      "outputs": []
    },
    {
      "cell_type": "code",
      "source": [
        "import numpy as np\n",
        "\n",
        "arr = np.array([1, 2, 3, 4, 5])\n",
        "\n",
        "print(arr)"
      ],
      "metadata": {
        "colab": {
          "base_uri": "https://localhost:8080/"
        },
        "id": "Gdva6UtqJJbu",
        "outputId": "0e69ffa0-61aa-4a2f-fc52-620a59e47dcb"
      },
      "execution_count": 3,
      "outputs": [
        {
          "output_type": "stream",
          "name": "stdout",
          "text": [
            "[1 2 3 4 5]\n"
          ]
        }
      ]
    },
    {
      "cell_type": "markdown",
      "source": [
        "#Why use NumPy?\n",
        "- Python lists are excellent, general-purpose containers. They can be “heterogeneous”, meaning that they can contain elements of a variety of types, and they are quite fast when used to perform individual operations on a handful of elements.\n",
        "#Dimensions in Arrays\n",
        "- A dimension in arrays is one level of array depth (nested arrays).\n",
        "- nested array: are arrays that have arrays as their elements."
      ],
      "metadata": {
        "id": "Sbg1eQyXJUtO"
      }
    },
    {
      "cell_type": "code",
      "source": [
        "# Creating numpy in (0D)\n",
        "\n",
        "import numpy as np\n",
        "\n",
        "arr = np.array(37)\n",
        "\n",
        "print(arr)"
      ],
      "metadata": {
        "colab": {
          "base_uri": "https://localhost:8080/"
        },
        "id": "gy1O1DV4Jkbi",
        "outputId": "cde7b4b7-016f-42ce-ae35-83d59fba0fb3"
      },
      "execution_count": 6,
      "outputs": [
        {
          "output_type": "stream",
          "name": "stdout",
          "text": [
            "37\n"
          ]
        }
      ]
    },
    {
      "cell_type": "code",
      "source": [
        "# Creating numpy (1D)\n",
        "a = np.array([4,5,6])\n",
        "print(a)"
      ],
      "metadata": {
        "colab": {
          "base_uri": "https://localhost:8080/"
        },
        "id": "69pMqXIMJp_q",
        "outputId": "d4ed0d8c-f6b1-4caf-8b4c-6121630b7953"
      },
      "execution_count": 7,
      "outputs": [
        {
          "output_type": "stream",
          "name": "stdout",
          "text": [
            "[4 5 6]\n"
          ]
        }
      ]
    },
    {
      "cell_type": "code",
      "source": [
        "# Creating numpy in (2D)\n",
        "\n",
        "a = np.array([[1,2,3],[4,5,6]])\n",
        "\n",
        "print(a)"
      ],
      "metadata": {
        "colab": {
          "base_uri": "https://localhost:8080/"
        },
        "id": "j-8C0zxPJ3OQ",
        "outputId": "8149cac2-fa8b-4326-ae71-18bfdd50ed25"
      },
      "execution_count": 8,
      "outputs": [
        {
          "output_type": "stream",
          "name": "stdout",
          "text": [
            "[[1 2 3]\n",
            " [4 5 6]]\n"
          ]
        }
      ]
    },
    {
      "cell_type": "code",
      "source": [
        "# Creating numpy in (3D)\n",
        "\n",
        "a = np.array([[[1,2,3,],[4,5,6],[7,8,9,]]])\n",
        "print(a)"
      ],
      "metadata": {
        "colab": {
          "base_uri": "https://localhost:8080/"
        },
        "id": "iWyN5bNyJ7yB",
        "outputId": "020ba903-c24b-4297-da9b-4f5debf7be82"
      },
      "execution_count": 9,
      "outputs": [
        {
          "output_type": "stream",
          "name": "stdout",
          "text": [
            "[[[1 2 3]\n",
            "  [4 5 6]\n",
            "  [7 8 9]]]\n"
          ]
        }
      ]
    },
    {
      "cell_type": "code",
      "source": [
        "# Creating numpy in (4D)\n",
        "\n",
        "a = np.array([[[[1,2,3],[6,7,8],[23,56,78]]]])\n",
        "print(a)"
      ],
      "metadata": {
        "colab": {
          "base_uri": "https://localhost:8080/"
        },
        "id": "_J17SmSvJ_bi",
        "outputId": "9f4e1d41-ccea-4aaf-a10d-6a7444233b15"
      },
      "execution_count": 10,
      "outputs": [
        {
          "output_type": "stream",
          "name": "stdout",
          "text": [
            "[[[[ 1  2  3]\n",
            "   [ 6  7  8]\n",
            "   [23 56 78]]]]\n"
          ]
        }
      ]
    },
    {
      "cell_type": "code",
      "source": [
        "# Creating numpy in (5D)\n",
        "\n",
        "a = np.array([[[[[10,20,30],[40,50,50],[90,79,50]]]]])\n",
        "print(a)"
      ],
      "metadata": {
        "colab": {
          "base_uri": "https://localhost:8080/"
        },
        "id": "ed4xl01VKC1v",
        "outputId": "8eb86b05-09f4-4e25-8750-a7849ac583db"
      },
      "execution_count": 11,
      "outputs": [
        {
          "output_type": "stream",
          "name": "stdout",
          "text": [
            "[[[[[10 20 30]\n",
            "    [40 50 50]\n",
            "    [90 79 50]]]]]\n"
          ]
        }
      ]
    },
    {
      "cell_type": "markdown",
      "source": [
        "#Initial place holders"
      ],
      "metadata": {
        "id": "wMXV-FwcKET_"
      }
    },
    {
      "cell_type": "code",
      "source": [
        "# Creating intial place holders with Zeros\n",
        "# (2,3,4) 2 is size,3 is rows,4 is coloums\n",
        "\n",
        "a = np.zeros([2,3,4])\n",
        "print(a)"
      ],
      "metadata": {
        "colab": {
          "base_uri": "https://localhost:8080/"
        },
        "id": "kbVeT0ATKJD9",
        "outputId": "aa69d30a-a824-4af8-e364-ddfdd3225a49"
      },
      "execution_count": 12,
      "outputs": [
        {
          "output_type": "stream",
          "name": "stdout",
          "text": [
            "[[[0. 0. 0. 0.]\n",
            "  [0. 0. 0. 0.]\n",
            "  [0. 0. 0. 0.]]\n",
            "\n",
            " [[0. 0. 0. 0.]\n",
            "  [0. 0. 0. 0.]\n",
            "  [0. 0. 0. 0.]]]\n"
          ]
        }
      ]
    },
    {
      "cell_type": "code",
      "source": [
        "a = np.zeros([4,3,4])\n",
        "print(a)"
      ],
      "metadata": {
        "colab": {
          "base_uri": "https://localhost:8080/"
        },
        "id": "iSD5jehkKQBQ",
        "outputId": "a4a60159-9722-4ae8-a0c5-a6da590423f7"
      },
      "execution_count": 13,
      "outputs": [
        {
          "output_type": "stream",
          "name": "stdout",
          "text": [
            "[[[0. 0. 0. 0.]\n",
            "  [0. 0. 0. 0.]\n",
            "  [0. 0. 0. 0.]]\n",
            "\n",
            " [[0. 0. 0. 0.]\n",
            "  [0. 0. 0. 0.]\n",
            "  [0. 0. 0. 0.]]\n",
            "\n",
            " [[0. 0. 0. 0.]\n",
            "  [0. 0. 0. 0.]\n",
            "  [0. 0. 0. 0.]]\n",
            "\n",
            " [[0. 0. 0. 0.]\n",
            "  [0. 0. 0. 0.]\n",
            "  [0. 0. 0. 0.]]]\n"
          ]
        }
      ]
    },
    {
      "cell_type": "code",
      "source": [
        "# Creating intial place holders with ones\n",
        "# (2,3,4) 2 is size,3 is rows,4 is coloums\n",
        "\n",
        "a = np.ones([2,3,4])\n",
        "print(a)"
      ],
      "metadata": {
        "colab": {
          "base_uri": "https://localhost:8080/"
        },
        "id": "AH_w4EyJKUgC",
        "outputId": "849c920f-a899-45c8-ed1a-d33403c71428"
      },
      "execution_count": 14,
      "outputs": [
        {
          "output_type": "stream",
          "name": "stdout",
          "text": [
            "[[[1. 1. 1. 1.]\n",
            "  [1. 1. 1. 1.]\n",
            "  [1. 1. 1. 1.]]\n",
            "\n",
            " [[1. 1. 1. 1.]\n",
            "  [1. 1. 1. 1.]\n",
            "  [1. 1. 1. 1.]]]\n"
          ]
        }
      ]
    },
    {
      "cell_type": "code",
      "source": [
        "a = np.ones([3,5,5])\n",
        "print(a)"
      ],
      "metadata": {
        "colab": {
          "base_uri": "https://localhost:8080/"
        },
        "id": "vfVqg2hFKYaJ",
        "outputId": "c97623b7-5a45-4626-8dc7-0fea0567cd31"
      },
      "execution_count": 15,
      "outputs": [
        {
          "output_type": "stream",
          "name": "stdout",
          "text": [
            "[[[1. 1. 1. 1. 1.]\n",
            "  [1. 1. 1. 1. 1.]\n",
            "  [1. 1. 1. 1. 1.]\n",
            "  [1. 1. 1. 1. 1.]\n",
            "  [1. 1. 1. 1. 1.]]\n",
            "\n",
            " [[1. 1. 1. 1. 1.]\n",
            "  [1. 1. 1. 1. 1.]\n",
            "  [1. 1. 1. 1. 1.]\n",
            "  [1. 1. 1. 1. 1.]\n",
            "  [1. 1. 1. 1. 1.]]\n",
            "\n",
            " [[1. 1. 1. 1. 1.]\n",
            "  [1. 1. 1. 1. 1.]\n",
            "  [1. 1. 1. 1. 1.]\n",
            "  [1. 1. 1. 1. 1.]\n",
            "  [1. 1. 1. 1. 1.]]]\n"
          ]
        }
      ]
    },
    {
      "cell_type": "code",
      "source": [
        "# Creating an array of evenly space value (step value)\n",
        "# steps = n-1 (n=2)\n",
        "\n",
        "d = np.arange(1,20,2)\n",
        "print(d)"
      ],
      "metadata": {
        "colab": {
          "base_uri": "https://localhost:8080/"
        },
        "id": "ZZzmVS9KKZ4Y",
        "outputId": "ae91b84e-48c5-4f9a-cc10-88e55622db5a"
      },
      "execution_count": 16,
      "outputs": [
        {
          "output_type": "stream",
          "name": "stdout",
          "text": [
            "[ 1  3  5  7  9 11 13 15 17 19]\n"
          ]
        }
      ]
    },
    {
      "cell_type": "code",
      "source": [
        "# steps = n-1 (n=5)\n",
        "d = np.arange(1,20,5)\n",
        "print(d)"
      ],
      "metadata": {
        "colab": {
          "base_uri": "https://localhost:8080/"
        },
        "id": "5F_dQuu1KefV",
        "outputId": "0fb70242-5b99-4367-a0cd-4c0413605c6f"
      },
      "execution_count": 17,
      "outputs": [
        {
          "output_type": "stream",
          "name": "stdout",
          "text": [
            "[ 1  6 11 16]\n"
          ]
        }
      ]
    },
    {
      "cell_type": "code",
      "source": [
        "# Creating array line space ( num of spaces)\n",
        "# 5 is no of samples\n",
        "\n",
        "a = np.linspace(1,20,5)\n",
        "print(a)"
      ],
      "metadata": {
        "colab": {
          "base_uri": "https://localhost:8080/"
        },
        "id": "_T0vb3zuKij8",
        "outputId": "028d5a02-4a0b-4ae5-99d1-639dbd549d41"
      },
      "execution_count": 18,
      "outputs": [
        {
          "output_type": "stream",
          "name": "stdout",
          "text": [
            "[ 1.    5.75 10.5  15.25 20.  ]\n"
          ]
        }
      ]
    },
    {
      "cell_type": "code",
      "source": [
        "# 10 is no of samples\n",
        "\n",
        "b = np.linspace(1,50,10)\n",
        "print(b)\n"
      ],
      "metadata": {
        "colab": {
          "base_uri": "https://localhost:8080/"
        },
        "id": "edYzUFdcKplh",
        "outputId": "7a52ae54-8db2-48b5-ac9a-1190e47a4396"
      },
      "execution_count": 19,
      "outputs": [
        {
          "output_type": "stream",
          "name": "stdout",
          "text": [
            "[ 1.          6.44444444 11.88888889 17.33333333 22.77777778 28.22222222\n",
            " 33.66666667 39.11111111 44.55555556 50.        ]\n"
          ]
        }
      ]
    },
    {
      "cell_type": "code",
      "source": [
        "# Examples\n",
        "\n",
        "i = np.array([[[1,2,3],[4,5,6]],\n",
        "              [[8,6,5],[6,8,9]],\n",
        "               [[5,7,6],[9,4,5]]])\n",
        "print(i)"
      ],
      "metadata": {
        "colab": {
          "base_uri": "https://localhost:8080/"
        },
        "id": "mHSLhV6MKqox",
        "outputId": "01d68987-0fe0-4ac1-874d-205de598b567"
      },
      "execution_count": 20,
      "outputs": [
        {
          "output_type": "stream",
          "name": "stdout",
          "text": [
            "[[[1 2 3]\n",
            "  [4 5 6]]\n",
            "\n",
            " [[8 6 5]\n",
            "  [6 8 9]]\n",
            "\n",
            " [[5 7 6]\n",
            "  [9 4 5]]]\n"
          ]
        }
      ]
    },
    {
      "cell_type": "code",
      "source": [
        "j= np.array([[2,3,4],[8,9,7],\n",
        "             [5,6,8],[3,5,4]])\n",
        "print(j)"
      ],
      "metadata": {
        "colab": {
          "base_uri": "https://localhost:8080/"
        },
        "id": "zgnkLM99Kwh9",
        "outputId": "b2983350-6d0f-4839-9ae2-86516a1aa729"
      },
      "execution_count": 21,
      "outputs": [
        {
          "output_type": "stream",
          "name": "stdout",
          "text": [
            "[[2 3 4]\n",
            " [8 9 7]\n",
            " [5 6 8]\n",
            " [3 5 4]]\n"
          ]
        }
      ]
    },
    {
      "cell_type": "code",
      "source": [
        "import numpy as np"
      ],
      "metadata": {
        "id": "gTaRSh-UKywA"
      },
      "execution_count": 22,
      "outputs": []
    },
    {
      "cell_type": "code",
      "source": [
        "! pip install numpy"
      ],
      "metadata": {
        "colab": {
          "base_uri": "https://localhost:8080/"
        },
        "id": "ViiTsAQ6K32w",
        "outputId": "5abfb54c-3dbd-4510-d7c8-1fa699e7b2f2"
      },
      "execution_count": 23,
      "outputs": [
        {
          "output_type": "stream",
          "name": "stdout",
          "text": [
            "Requirement already satisfied: numpy in /usr/local/lib/python3.10/dist-packages (1.26.4)\n"
          ]
        }
      ]
    },
    {
      "cell_type": "code",
      "source": [
        "# Creating Constant array\n",
        "# 1D\n",
        "a = np.full((5),10) # coloums\n",
        "print(a)\n",
        "print(a.ndim)"
      ],
      "metadata": {
        "colab": {
          "base_uri": "https://localhost:8080/"
        },
        "id": "UDneZ6_lLBB2",
        "outputId": "450aaa32-6f5c-43f2-d152-6339f2eba788"
      },
      "execution_count": 24,
      "outputs": [
        {
          "output_type": "stream",
          "name": "stdout",
          "text": [
            "[10 10 10 10 10]\n",
            "1\n"
          ]
        }
      ]
    },
    {
      "cell_type": "code",
      "source": [
        "# 2D\n",
        "a = np.full((4,5),10)\n",
        "print(a)\n",
        "print(a.ndim ,\"no of dimensions\")"
      ],
      "metadata": {
        "colab": {
          "base_uri": "https://localhost:8080/"
        },
        "id": "lshQ2tPLLFlG",
        "outputId": "efc26e5f-f142-46f7-b3d4-7318acf441de"
      },
      "execution_count": 25,
      "outputs": [
        {
          "output_type": "stream",
          "name": "stdout",
          "text": [
            "[[10 10 10 10 10]\n",
            " [10 10 10 10 10]\n",
            " [10 10 10 10 10]\n",
            " [10 10 10 10 10]]\n",
            "2 no of dimensions\n"
          ]
        }
      ]
    },
    {
      "cell_type": "code",
      "source": [
        "# 3D\n",
        "a = np.full((3,4,5),10)\n",
        "print(a)\n",
        "print(a.ndim)"
      ],
      "metadata": {
        "colab": {
          "base_uri": "https://localhost:8080/"
        },
        "id": "BEBFvBKfLJge",
        "outputId": "b95189f0-55b6-4e5f-8faf-0b481bb84bd9"
      },
      "execution_count": 26,
      "outputs": [
        {
          "output_type": "stream",
          "name": "stdout",
          "text": [
            "[[[10 10 10 10 10]\n",
            "  [10 10 10 10 10]\n",
            "  [10 10 10 10 10]\n",
            "  [10 10 10 10 10]]\n",
            "\n",
            " [[10 10 10 10 10]\n",
            "  [10 10 10 10 10]\n",
            "  [10 10 10 10 10]\n",
            "  [10 10 10 10 10]]\n",
            "\n",
            " [[10 10 10 10 10]\n",
            "  [10 10 10 10 10]\n",
            "  [10 10 10 10 10]\n",
            "  [10 10 10 10 10]]]\n",
            "3\n"
          ]
        }
      ]
    },
    {
      "cell_type": "markdown",
      "source": [
        "#Identity matrix"
      ],
      "metadata": {
        "id": "HpvswbF0LOMB"
      }
    },
    {
      "cell_type": "code",
      "source": [
        "# Creating Identity matrix\n",
        "a = np.eye(5)\n",
        "print(a)"
      ],
      "metadata": {
        "colab": {
          "base_uri": "https://localhost:8080/"
        },
        "id": "EzUOYjmdLK8s",
        "outputId": "165f37be-a59c-4202-a42c-833c1bfa5283"
      },
      "execution_count": 27,
      "outputs": [
        {
          "output_type": "stream",
          "name": "stdout",
          "text": [
            "[[1. 0. 0. 0. 0.]\n",
            " [0. 1. 0. 0. 0.]\n",
            " [0. 0. 1. 0. 0.]\n",
            " [0. 0. 0. 1. 0.]\n",
            " [0. 0. 0. 0. 1.]]\n"
          ]
        }
      ]
    },
    {
      "cell_type": "code",
      "source": [
        "# Creating an array with random values\n",
        "np.random.random((2,5))"
      ],
      "metadata": {
        "colab": {
          "base_uri": "https://localhost:8080/"
        },
        "id": "AGL5guUzLT23",
        "outputId": "a1f8ad58-7303-4cd6-86d1-642d78a1e638"
      },
      "execution_count": 28,
      "outputs": [
        {
          "output_type": "execute_result",
          "data": {
            "text/plain": [
              "array([[0.71086724, 0.87556058, 0.29976419, 0.58360523, 0.02134161],\n",
              "       [0.36140219, 0.17568322, 0.02022382, 0.47280368, 0.81768265]])"
            ]
          },
          "metadata": {},
          "execution_count": 28
        }
      ]
    },
    {
      "cell_type": "code",
      "source": [
        "# Creating an array with random integer values\n",
        "np.random.randint(1,50)"
      ],
      "metadata": {
        "colab": {
          "base_uri": "https://localhost:8080/"
        },
        "id": "dOZlnU1bLb-K",
        "outputId": "fb1368fc-a34c-410d-c1d4-950dde2d9cd2"
      },
      "execution_count": 29,
      "outputs": [
        {
          "output_type": "execute_result",
          "data": {
            "text/plain": [
              "20"
            ]
          },
          "metadata": {},
          "execution_count": 29
        }
      ]
    },
    {
      "cell_type": "markdown",
      "source": [
        "#Array attributes\n",
        "- This section covers the ndim, shape, size,length (len) and dtype attributes of an array."
      ],
      "metadata": {
        "id": "7F3I4uV_LgxP"
      }
    },
    {
      "cell_type": "code",
      "source": [
        "# to fiond no of dimensions\n",
        "a=np.array([[1,3,5],\n",
        "            [5,6,7],\n",
        "            [8,9,6]])\n",
        "print(a.ndim)"
      ],
      "metadata": {
        "colab": {
          "base_uri": "https://localhost:8080/"
        },
        "id": "5rsijBcKLgYu",
        "outputId": "eda44f68-a715-407f-805a-3547872e6a78"
      },
      "execution_count": 30,
      "outputs": [
        {
          "output_type": "stream",
          "name": "stdout",
          "text": [
            "2\n"
          ]
        }
      ]
    },
    {
      "cell_type": "code",
      "source": [
        "# To find Size of an array (no of elements in matrix)\n",
        "a=np.array([[1,3,5],\n",
        "            [5,6,7],\n",
        "            [8,9,6]])\n",
        "print(a.shape)"
      ],
      "metadata": {
        "colab": {
          "base_uri": "https://localhost:8080/"
        },
        "id": "ZwUPDm6DLrIK",
        "outputId": "52073124-deb0-4855-857b-b7a84958dbf4"
      },
      "execution_count": 31,
      "outputs": [
        {
          "output_type": "stream",
          "name": "stdout",
          "text": [
            "(3, 3)\n"
          ]
        }
      ]
    },
    {
      "cell_type": "code",
      "source": [
        "# To find shape of array(no of rows and coloums)\n",
        "a= np.array([[9,0,4],\n",
        "              [4,6,3],\n",
        "              [1,2,1]])\n",
        "print(a.size)"
      ],
      "metadata": {
        "colab": {
          "base_uri": "https://localhost:8080/"
        },
        "id": "KRrYfv1XLvJa",
        "outputId": "a1cdef88-656c-4369-feee-a20d509b933e"
      },
      "execution_count": 32,
      "outputs": [
        {
          "output_type": "stream",
          "name": "stdout",
          "text": [
            "9\n"
          ]
        }
      ]
    },
    {
      "cell_type": "code",
      "source": [
        "# To find length of matrix (no of rows)\n",
        "a=np.array([[3,5,6],\n",
        "            [5,9,8],\n",
        "            [8,9,7]])\n",
        "print(len(a))\n"
      ],
      "metadata": {
        "colab": {
          "base_uri": "https://localhost:8080/"
        },
        "id": "nrhTrpOVLzHg",
        "outputId": "d724e78e-f1d3-467d-a4d6-29e32d422da8"
      },
      "execution_count": 33,
      "outputs": [
        {
          "output_type": "stream",
          "name": "stdout",
          "text": [
            "3\n"
          ]
        }
      ]
    },
    {
      "cell_type": "code",
      "source": [
        "# to know to data type\n",
        "a.dtype"
      ],
      "metadata": {
        "colab": {
          "base_uri": "https://localhost:8080/"
        },
        "id": "-43Y6RJ5L3Tq",
        "outputId": "fbfd8851-171f-46fc-cb29-b2bc5482afcc"
      },
      "execution_count": 35,
      "outputs": [
        {
          "output_type": "execute_result",
          "data": {
            "text/plain": [
              "dtype('int64')"
            ]
          },
          "metadata": {},
          "execution_count": 35
        }
      ]
    },
    {
      "cell_type": "markdown",
      "source": [
        "#NumPy Array Indexing\n",
        "- Array indexing is the same as accessing an array element.\n",
        "\n",
        "- You can access an array element by referring to its index number.\n",
        "\n",
        "- The indexes in NumPy arrays start with 0, meaning that the first element has index 0, and the second has index 1 etc."
      ],
      "metadata": {
        "id": "RaKAJAQ1MKe9"
      }
    },
    {
      "cell_type": "code",
      "source": [
        "# Access of array elements\n",
        "# 1D\n",
        "a = np.array([2,3,4,5,6,7,89])\n",
        "print(a[4])"
      ],
      "metadata": {
        "colab": {
          "base_uri": "https://localhost:8080/"
        },
        "id": "3OhB1NK6MUJ1",
        "outputId": "4cacde96-fb4b-4b5b-ff02-f5cb618ef09a"
      },
      "execution_count": 36,
      "outputs": [
        {
          "output_type": "stream",
          "name": "stdout",
          "text": [
            "6\n"
          ]
        }
      ]
    },
    {
      "cell_type": "markdown",
      "source": [
        "#Access 2-D Arrays\n",
        "- To access elements from 2-D arrays we can use comma separated integers representing the dimension and the index of the element.\n",
        "\n",
        "- Think of 2-D arrays like a table with rows and columns, where the dimension represents the row and the index represents the column"
      ],
      "metadata": {
        "id": "wRGjJqYRL6Zt"
      }
    },
    {
      "cell_type": "code",
      "source": [
        "# 2D\n",
        "a = np.array([[3,4,5],  #0\n",
        "              [5,7,8],  #1\n",
        "              [8,9,3]]) #2\n",
        "print(a[2,2])\n",
        "print(a[1,0])"
      ],
      "metadata": {
        "colab": {
          "base_uri": "https://localhost:8080/"
        },
        "id": "IN73xKU7Mfh1",
        "outputId": "c03095ac-24ed-48fe-bf62-fa4f0cf95d32"
      },
      "execution_count": 37,
      "outputs": [
        {
          "output_type": "stream",
          "name": "stdout",
          "text": [
            "3\n",
            "5\n"
          ]
        }
      ]
    },
    {
      "cell_type": "markdown",
      "source": [
        "#Access 3-D Arrays\n",
        "- To access elements from 3-D arrays we can use comma separated integers representing the dimensions and the index of the element."
      ],
      "metadata": {
        "id": "eW7qosF0Mjz4"
      }
    },
    {
      "cell_type": "code",
      "source": [
        "# 3D\n",
        "a = np.array([[[2,4,5],[3,5,6]],\n",
        "               [[8,9,67],[4,6,8]],\n",
        "              [[3,2,1],[3,4,6]]])\n",
        "print(a[2,1,1])"
      ],
      "metadata": {
        "colab": {
          "base_uri": "https://localhost:8080/"
        },
        "id": "3cosubUlMpda",
        "outputId": "84ede650-498f-46d3-ffc4-6156dcb0938c"
      },
      "execution_count": 38,
      "outputs": [
        {
          "output_type": "stream",
          "name": "stdout",
          "text": [
            "4\n"
          ]
        }
      ]
    },
    {
      "cell_type": "code",
      "source": [
        "a = np.array([[[2,4,5],[3,5,6]],\n",
        "               [[8,9,67],[4,6,8]],\n",
        "              [[3,2,1],[3,4,6]]])\n",
        "print(a[2,1,0])"
      ],
      "metadata": {
        "colab": {
          "base_uri": "https://localhost:8080/"
        },
        "id": "hVLAcP-kMqlm",
        "outputId": "385f23fc-6128-46cf-9889-089c48ccb783"
      },
      "execution_count": 39,
      "outputs": [
        {
          "output_type": "stream",
          "name": "stdout",
          "text": [
            "3\n"
          ]
        }
      ]
    },
    {
      "cell_type": "code",
      "source": [
        "import numpy as np"
      ],
      "metadata": {
        "id": "vH4lP0seMt5a"
      },
      "execution_count": 40,
      "outputs": []
    },
    {
      "cell_type": "code",
      "source": [
        "a= np.array([[[[1,3,4],[3,7,8]]],\n",
        "             [[[2,3,4],[3,5,6]]],\n",
        "             [[[2,3,4],[3,5,6]]]])\n",
        "print(a[1,0,1])\n",
        "a.ndim"
      ],
      "metadata": {
        "colab": {
          "base_uri": "https://localhost:8080/"
        },
        "id": "1049Uu8HMxQw",
        "outputId": "bae0ad8a-8fa2-4047-fcc2-b5b96cdffce1"
      },
      "execution_count": 41,
      "outputs": [
        {
          "output_type": "stream",
          "name": "stdout",
          "text": [
            "[3 5 6]\n"
          ]
        },
        {
          "output_type": "execute_result",
          "data": {
            "text/plain": [
              "4"
            ]
          },
          "metadata": {},
          "execution_count": 41
        }
      ]
    },
    {
      "cell_type": "markdown",
      "source": [
        "#Data Types in NumPy\n",
        "- NumPy has some extra data types, and refer to data types with one character, like i for integers, u for unsigned integers etc.\n",
        "\n",
        "Below is a list of all data types in NumPy and the characters used to represent them.\n",
        "\n",
        "- i - integer\n",
        "\n",
        "- b - boolean\n",
        "\n",
        "- u - unsigned integer\n",
        "\n",
        "- f - float\n",
        "\n",
        "- c - complex float\n",
        "\n",
        "- m - timedelta\n",
        "\n",
        "- M - datetime\n",
        "\n",
        "- O - object\n",
        "\n",
        "- S - string\n",
        "\n",
        "- U - unicode string\n",
        "\n",
        "- V - fixed chunk of memory for other type ( void )\n",
        "\n"
      ],
      "metadata": {
        "id": "QYmsp-X0M1rQ"
      }
    },
    {
      "cell_type": "code",
      "source": [
        "# String\n",
        "import numpy as np\n",
        "\n",
        "arr = np.array([1, 2, 3, 4], dtype='S')\n",
        "\n",
        "print(arr)\n",
        "print(arr.dtype)"
      ],
      "metadata": {
        "colab": {
          "base_uri": "https://localhost:8080/"
        },
        "id": "8qq8hMS2NTWW",
        "outputId": "b4a7913f-5b2f-4590-f7ef-f092dd851cc1"
      },
      "execution_count": 42,
      "outputs": [
        {
          "output_type": "stream",
          "name": "stdout",
          "text": [
            "[b'1' b'2' b'3' b'4']\n",
            "|S1\n"
          ]
        }
      ]
    },
    {
      "cell_type": "code",
      "source": [
        "# Integer\n",
        "import numpy as np\n",
        "\n",
        "arr = np.array([1, 2, 3, 4], dtype='i')\n",
        "\n",
        "print(arr)\n",
        "print(arr.dtype)"
      ],
      "metadata": {
        "colab": {
          "base_uri": "https://localhost:8080/"
        },
        "id": "zzUef05qNWnc",
        "outputId": "4f271109-c5ba-406d-e782-a7c7fa6c5a5f"
      },
      "execution_count": 43,
      "outputs": [
        {
          "output_type": "stream",
          "name": "stdout",
          "text": [
            "[1 2 3 4]\n",
            "int32\n"
          ]
        }
      ]
    },
    {
      "cell_type": "markdown",
      "source": [
        "#Converting Data Type on Existing Arrays\n",
        "- The best way to change the data type of an existing array, is to make a copy of the array with the astype() method.\n",
        "\n",
        "- The astype() function creates a copy of the array, and allows you to specify the data type as a parameter.\n",
        "\n",
        "- The data type can be specified using a string, like 'f' for float, 'i' for integer etc. or you can use the data type directly like float for float and int for integer.\n",
        "\n"
      ],
      "metadata": {
        "id": "zmTbx21jNfjJ"
      }
    },
    {
      "cell_type": "code",
      "source": [
        "#Change data type from float to integer by using 'i' as parameter value:\n",
        "a = np.array([1.1, 2.1, 3.1])\n",
        "\n",
        "b= a.astype('i')\n",
        "\n",
        "print(b)\n",
        "print(b.dtype)"
      ],
      "metadata": {
        "colab": {
          "base_uri": "https://localhost:8080/"
        },
        "id": "60rMbl3INXvE",
        "outputId": "0e4b7b40-94d2-4391-ad0b-22c511452de1"
      },
      "execution_count": 44,
      "outputs": [
        {
          "output_type": "stream",
          "name": "stdout",
          "text": [
            "[1 2 3]\n",
            "int32\n"
          ]
        }
      ]
    },
    {
      "cell_type": "code",
      "source": [
        "#Change data type from integer to boolean:\n",
        "a= np.array([-1, 0,4,5])\n",
        "\n",
        "b = a.astype(bool)\n",
        "\n",
        "print(b)\n",
        "print(b.dtype)"
      ],
      "metadata": {
        "colab": {
          "base_uri": "https://localhost:8080/"
        },
        "id": "MNRchKEZNo1u",
        "outputId": "d3c4f83b-e625-41f9-f768-ba04b163ea8a"
      },
      "execution_count": 45,
      "outputs": [
        {
          "output_type": "stream",
          "name": "stdout",
          "text": [
            "[ True False  True  True]\n",
            "bool\n"
          ]
        }
      ]
    },
    {
      "cell_type": "code",
      "source": [
        "#Change data type from integer to float:\n",
        "a= np.array([-1, 0,4,5])\n",
        "\n",
        "b = a.astype('f')\n",
        "\n",
        "print(b)\n",
        "print(b.dtype)\n"
      ],
      "metadata": {
        "colab": {
          "base_uri": "https://localhost:8080/"
        },
        "id": "LEg1MVNFNuyr",
        "outputId": "543e079c-7572-4a1a-9417-3c446ce63933"
      },
      "execution_count": 46,
      "outputs": [
        {
          "output_type": "stream",
          "name": "stdout",
          "text": [
            "[-1.  0.  4.  5.]\n",
            "float32\n"
          ]
        }
      ]
    },
    {
      "cell_type": "markdown",
      "source": [
        "#NumPy Array Copy vs View\n",
        "- The main difference between a copy and a view of an array is that the copy is a new array, and the view is just a view of the original array.\n",
        "\n",
        "- The copy owns the data and any changes made to the copy will not affect original array, and any changes made to the original array will not affect the copy.\n",
        "\n",
        "- The view does not own the data and any changes made to the view will affect the original array, and any changes made to the original array will affect the view.\n",
        "\n",
        "- The copy should not be affected by the changes made to the original array.\n",
        "\n"
      ],
      "metadata": {
        "id": "7eZgJU57N3FN"
      }
    },
    {
      "cell_type": "code",
      "source": [
        "import numpy as np\n",
        "#The copy should not be affected by the changes made to the original array.\n",
        "\n",
        "arr = np.array([1, 2, 3, 4, 5])\n",
        "x = arr.copy()\n",
        "arr[0] = 54\n",
        "\n",
        "print(arr)\n",
        "print(x)"
      ],
      "metadata": {
        "colab": {
          "base_uri": "https://localhost:8080/"
        },
        "id": "miB3EpAJNwMA",
        "outputId": "8bd60925-1ddc-404d-cc53-6eeebd4ae680"
      },
      "execution_count": 47,
      "outputs": [
        {
          "output_type": "stream",
          "name": "stdout",
          "text": [
            "[54  2  3  4  5]\n",
            "[1 2 3 4 5]\n"
          ]
        }
      ]
    },
    {
      "cell_type": "markdown",
      "source": [
        "#View"
      ],
      "metadata": {
        "id": "Bi1ZfdGRONCq"
      }
    },
    {
      "cell_type": "code",
      "source": [
        "import numpy as np\n",
        "##The view should  be affected by the changes made to the original array.\n",
        "\n",
        "arr = np.array([1, 2, 3, 4, 5])\n",
        "x = arr.view()\n",
        "arr[0] = 20\n",
        "\n",
        "print(arr)\n",
        "print(x)"
      ],
      "metadata": {
        "colab": {
          "base_uri": "https://localhost:8080/"
        },
        "id": "NadXITEdOJrH",
        "outputId": "acb98ce3-592a-4de7-9f8d-565a26fd38db"
      },
      "execution_count": 48,
      "outputs": [
        {
          "output_type": "stream",
          "name": "stdout",
          "text": [
            "[20  2  3  4  5]\n",
            "[20  2  3  4  5]\n"
          ]
        }
      ]
    },
    {
      "cell_type": "code",
      "source": [
        "# shape\n",
        "a = np.array([[3,4,5],\n",
        "              [5,7,8],\n",
        "              [8,9,3]])\n",
        "print(a.shape)"
      ],
      "metadata": {
        "colab": {
          "base_uri": "https://localhost:8080/"
        },
        "id": "LHSy3KgwOWB8",
        "outputId": "a38fb953-23b1-4c65-ba3a-496f938c00d5"
      },
      "execution_count": 49,
      "outputs": [
        {
          "output_type": "stream",
          "name": "stdout",
          "text": [
            "(3, 3)\n"
          ]
        }
      ]
    },
    {
      "cell_type": "markdown",
      "source": [
        "#Reshaping array\n",
        "- Using arr.reshape() will give a new shape to an array without changing the data. the reshape method, the array we want to produce needs to have the same number of elements as the original array."
      ],
      "metadata": {
        "id": "cPjJYbHWOaHQ"
      }
    },
    {
      "cell_type": "code",
      "source": [
        "a=np.arange(10)\n",
        "print(a)"
      ],
      "metadata": {
        "colab": {
          "base_uri": "https://localhost:8080/"
        },
        "id": "BcLoqVxTOf0A",
        "outputId": "6ba7cc81-7c74-448a-c146-60a8087c5365"
      },
      "execution_count": 50,
      "outputs": [
        {
          "output_type": "stream",
          "name": "stdout",
          "text": [
            "[0 1 2 3 4 5 6 7 8 9]\n"
          ]
        }
      ]
    },
    {
      "cell_type": "code",
      "source": [
        "#Convert the following 1-D array with 12 elements into a 2-D array.\n",
        "arr = np.array([1, 2, 3, 4, 5, 6, 7, 11, 9, 10, 11, 12, 13, 14])\n",
        "\n",
        "newarr = arr.reshape(7, 2)\n",
        "\n",
        "print(newarr)"
      ],
      "metadata": {
        "colab": {
          "base_uri": "https://localhost:8080/"
        },
        "id": "p6UXiqtYOhKK",
        "outputId": "fc3d8397-f173-43fc-db17-d5e364ccce8a"
      },
      "execution_count": 51,
      "outputs": [
        {
          "output_type": "stream",
          "name": "stdout",
          "text": [
            "[[ 1  2]\n",
            " [ 3  4]\n",
            " [ 5  6]\n",
            " [ 7 11]\n",
            " [ 9 10]\n",
            " [11 12]\n",
            " [13 14]]\n"
          ]
        }
      ]
    },
    {
      "cell_type": "code",
      "source": [
        "#Convert the following 1-D array with 12 elements into a 3-D arrray\n",
        "\n",
        "arr = np.array([1, 2, 3, 4, 5, 6, 7, 8, 9, 10, 11, 12])\n",
        "\n",
        "newarr = arr.reshape(2, 2, 3)\n",
        "\n",
        "print(newarr)"
      ],
      "metadata": {
        "colab": {
          "base_uri": "https://localhost:8080/"
        },
        "id": "aRy0hf8-Okn0",
        "outputId": "b1f7f0c3-cdf4-43b4-b1ad-d88b4a9a92fc"
      },
      "execution_count": 52,
      "outputs": [
        {
          "output_type": "stream",
          "name": "stdout",
          "text": [
            "[[[ 1  2  3]\n",
            "  [ 4  5  6]]\n",
            "\n",
            " [[ 7  8  9]\n",
            "  [10 11 12]]]\n"
          ]
        }
      ]
    },
    {
      "cell_type": "code",
      "source": [
        "#Convert the following 2-D array with 12 elements into a 1-D arrray\n",
        "\n",
        "arr = np.array([[1, 2, 3, 4],\n",
        "    [5, 6, 7, 8],[ 9, 10, 11, 12]])\n",
        "\n",
        "newarr = arr.reshape(12)\n",
        "\n",
        "print(newarr)"
      ],
      "metadata": {
        "colab": {
          "base_uri": "https://localhost:8080/"
        },
        "id": "FIwYHnUEOoO_",
        "outputId": "30322b46-3fc1-445c-e0a6-68a6831c243a"
      },
      "execution_count": 53,
      "outputs": [
        {
          "output_type": "stream",
          "name": "stdout",
          "text": [
            "[ 1  2  3  4  5  6  7  8  9 10 11 12]\n"
          ]
        }
      ]
    },
    {
      "cell_type": "code",
      "source": [
        "#Convert the following 2-D array with 12 elements into a 3-D arrray\n",
        "\n",
        "arr = np.array([[1, 2, 3, 4],\n",
        "    [5, 6, 7, 8],[ 9, 10, 11, 12]])\n",
        "\n",
        "newarr = arr.reshape(1,4,3)\n",
        "\n",
        "print(newarr)"
      ],
      "metadata": {
        "colab": {
          "base_uri": "https://localhost:8080/"
        },
        "id": "bZwT6CzSOrcb",
        "outputId": "94924d3f-5a2a-46ce-b0be-9957a55f4ddd"
      },
      "execution_count": 54,
      "outputs": [
        {
          "output_type": "stream",
          "name": "stdout",
          "text": [
            "[[[ 1  2  3]\n",
            "  [ 4  5  6]\n",
            "  [ 7  8  9]\n",
            "  [10 11 12]]]\n"
          ]
        }
      ]
    },
    {
      "cell_type": "code",
      "source": [
        "#Convert the following 3-D array with 12 elements into a 2-D arrray\n",
        "arr = np.array([[[1, 2, 3, 4]],\n",
        "    [[5, 6, 7, 8]],[[ 9, 10, 11, 12]]])\n",
        "\n",
        "newarr = arr.reshape(3,4)\n",
        "\n",
        "print(newarr)"
      ],
      "metadata": {
        "colab": {
          "base_uri": "https://localhost:8080/"
        },
        "id": "zhpAwMZbOvF2",
        "outputId": "8d7ac580-8054-4ac1-d905-6af98510c336"
      },
      "execution_count": 55,
      "outputs": [
        {
          "output_type": "stream",
          "name": "stdout",
          "text": [
            "[[ 1  2  3  4]\n",
            " [ 5  6  7  8]\n",
            " [ 9 10 11 12]]\n"
          ]
        }
      ]
    },
    {
      "cell_type": "code",
      "source": [
        "#Convert the following 3-D array with 12 elements into a 1-D arrray\n",
        "arr = np.array([[[1, 2, 3, 4]],\n",
        "    [[5, 6, 7, 8]],[[ 9, 10, 11, 12]]])\n",
        "\n",
        "newarr = arr.reshape(12)\n",
        "\n",
        "print(newarr)"
      ],
      "metadata": {
        "colab": {
          "base_uri": "https://localhost:8080/"
        },
        "id": "I0nX9hZUOyUy",
        "outputId": "69465f78-cc18-4a56-9347-e6e11ab41fdd"
      },
      "execution_count": 56,
      "outputs": [
        {
          "output_type": "stream",
          "name": "stdout",
          "text": [
            "[ 1  2  3  4  5  6  7  8  9 10 11 12]\n"
          ]
        }
      ]
    },
    {
      "cell_type": "code",
      "source": [
        "# Python Program to create\n",
        "# a data type object\n",
        "x = np.array([[5,2],[3,12]])\n",
        "y = np.array([[2,9],[4,8]])\n"
      ],
      "metadata": {
        "id": "uiM_PFN6O2N-"
      },
      "execution_count": 57,
      "outputs": []
    },
    {
      "cell_type": "code",
      "source": [
        "# Addition of two Arrays\n",
        "print(x + y)\n",
        "print(np.add(x, y))\n"
      ],
      "metadata": {
        "colab": {
          "base_uri": "https://localhost:8080/"
        },
        "id": "wwe1tz1zO5gH",
        "outputId": "a626187c-c0a3-4eab-959c-45d241462be3"
      },
      "execution_count": 58,
      "outputs": [
        {
          "output_type": "stream",
          "name": "stdout",
          "text": [
            "[[ 7 11]\n",
            " [ 7 20]]\n",
            "[[ 7 11]\n",
            " [ 7 20]]\n"
          ]
        }
      ]
    },
    {
      "cell_type": "code",
      "source": [
        "# subtract of the elements\n",
        "print(x - y)\n",
        "print(np.subtract(x, y))"
      ],
      "metadata": {
        "colab": {
          "base_uri": "https://localhost:8080/"
        },
        "id": "1XUaTtvlO97X",
        "outputId": "ee48a3ac-35b8-42ee-eb6d-c8fc2f545e7f"
      },
      "execution_count": 59,
      "outputs": [
        {
          "output_type": "stream",
          "name": "stdout",
          "text": [
            "[[ 3 -7]\n",
            " [-1  4]]\n",
            "[[ 3 -7]\n",
            " [-1  4]]\n"
          ]
        }
      ]
    },
    {
      "cell_type": "code",
      "source": [
        "#multiplication or  product\n",
        "print(x * y)\n",
        "print(np.multiply(x, y))"
      ],
      "metadata": {
        "colab": {
          "base_uri": "https://localhost:8080/"
        },
        "id": "yobtHrIEPDhq",
        "outputId": "9676bc16-dfbc-4f0d-f5cb-4ec8028eb608"
      },
      "execution_count": 60,
      "outputs": [
        {
          "output_type": "stream",
          "name": "stdout",
          "text": [
            "[[10 18]\n",
            " [12 96]]\n",
            "[[10 18]\n",
            " [12 96]]\n"
          ]
        }
      ]
    },
    {
      "cell_type": "code",
      "source": [
        "#division\n",
        "print(x / y)\n",
        "print(np.divide(x, y))"
      ],
      "metadata": {
        "colab": {
          "base_uri": "https://localhost:8080/"
        },
        "id": "VB6XbWlhPHv4",
        "outputId": "6d1535bf-0e44-4401-ec5c-d3286ca1d10f"
      },
      "execution_count": 61,
      "outputs": [
        {
          "output_type": "stream",
          "name": "stdout",
          "text": [
            "[[2.5        0.22222222]\n",
            " [0.75       1.5       ]]\n",
            "[[2.5        0.22222222]\n",
            " [0.75       1.5       ]]\n"
          ]
        }
      ]
    },
    {
      "cell_type": "code",
      "source": [
        "#square root\n",
        "print(np.sqrt(x))\n",
        "print(np.sqrt(y))"
      ],
      "metadata": {
        "colab": {
          "base_uri": "https://localhost:8080/"
        },
        "id": "3Q0df4ZWPL8H",
        "outputId": "67f7db74-0f22-45f4-b28c-61f29c5f5a7d"
      },
      "execution_count": 62,
      "outputs": [
        {
          "output_type": "stream",
          "name": "stdout",
          "text": [
            "[[2.23606798 1.41421356]\n",
            " [1.73205081 3.46410162]]\n",
            "[[1.41421356 3.        ]\n",
            " [2.         2.82842712]]\n"
          ]
        }
      ]
    },
    {
      "cell_type": "code",
      "source": [
        "# sort (assending odder)\n",
        "arr = np.array([3, 2, 0, 1])\n",
        "print(np.sort(arr))"
      ],
      "metadata": {
        "colab": {
          "base_uri": "https://localhost:8080/"
        },
        "id": "nEoOymHiPQvl",
        "outputId": "5129b15c-251e-4f5a-ec1a-bbdde2cb7d1f"
      },
      "execution_count": 63,
      "outputs": [
        {
          "output_type": "stream",
          "name": "stdout",
          "text": [
            "[0 1 2 3]\n"
          ]
        }
      ]
    },
    {
      "cell_type": "markdown",
      "source": [
        "#NumPy Array Slicing\n",
        "- Slicing in python means taking elements from one given index to another given index.\n",
        "\n",
        "- We pass slice instead of index like this: [start:end].\n",
        "\n",
        "- We can also define the step, like this: [start:end:step].\n",
        "\n",
        "- If we don't pass start its considered 0\n",
        "\n",
        "- If we don't pass end its considered length of array in that dimension\n",
        "\n",
        "- If we don't pass step its considered 1\n",
        "\n"
      ],
      "metadata": {
        "id": "5e-rV_cvPUob"
      }
    },
    {
      "cell_type": "code",
      "source": [
        "import numpy as np\n",
        "\n",
        "arr = np.array([1, 2, 3, 4, 5, 6, 7])\n",
        "\n",
        "print(arr[0:4])"
      ],
      "metadata": {
        "colab": {
          "base_uri": "https://localhost:8080/"
        },
        "id": "fN3f5uZtPmGP",
        "outputId": "2253cb19-8930-4752-f3d5-c910f0de761b"
      },
      "execution_count": 64,
      "outputs": [
        {
          "output_type": "stream",
          "name": "stdout",
          "text": [
            "[1 2 3 4]\n"
          ]
        }
      ]
    },
    {
      "cell_type": "code",
      "source": [
        "import numpy as np\n",
        "\n",
        "arr = np.array([1, 2, 3, 4, 5, 6, 7])\n",
        "\n",
        "print(arr[:-3])"
      ],
      "metadata": {
        "colab": {
          "base_uri": "https://localhost:8080/"
        },
        "id": "TgFHewiAPnMc",
        "outputId": "d46696b4-3f20-4d08-8452-cfd9de2686ba"
      },
      "execution_count": 65,
      "outputs": [
        {
          "output_type": "stream",
          "name": "stdout",
          "text": [
            "[1 2 3 4]\n"
          ]
        }
      ]
    },
    {
      "cell_type": "code",
      "source": [
        "import numpy as np\n",
        "\n",
        "arr = np.array([1, 2, 3, 4, 5, 6, 7])\n",
        "\n",
        "print(arr[-4:-3])"
      ],
      "metadata": {
        "colab": {
          "base_uri": "https://localhost:8080/"
        },
        "id": "84TUXD9MPruP",
        "outputId": "c01381d3-61c8-4b73-9f15-d5457e69e40f"
      },
      "execution_count": 66,
      "outputs": [
        {
          "output_type": "stream",
          "name": "stdout",
          "text": [
            "[4]\n"
          ]
        }
      ]
    },
    {
      "cell_type": "code",
      "source": [
        "# Slicing 2-D Arrays\n",
        "\n",
        "import numpy as np\n",
        "\n",
        "arr = np.array([[1, 2, 3, 4, 5],   #0\n",
        "                [6, 7, 8, 9, 10]])  #1\n",
        "\n",
        "print(arr[1, 1:4])"
      ],
      "metadata": {
        "colab": {
          "base_uri": "https://localhost:8080/"
        },
        "id": "Y_zO3ePJPvk-",
        "outputId": "2e762a60-08a6-4caa-b955-383fa8ecf875"
      },
      "execution_count": 67,
      "outputs": [
        {
          "output_type": "stream",
          "name": "stdout",
          "text": [
            "[7 8 9]\n"
          ]
        }
      ]
    },
    {
      "cell_type": "code",
      "source": [
        "import numpy as np\n",
        "\n",
        "arr = np.array([[1, 2, 3, 4, 5],   #0\n",
        "\n",
        "                [6, 7, 8, 9, 10]])  #1\n",
        "\n",
        "print(arr[1:2, 1])"
      ],
      "metadata": {
        "colab": {
          "base_uri": "https://localhost:8080/"
        },
        "id": "TRSBx0tcPy7g",
        "outputId": "d16a627b-4780-49eb-ee0f-04e05616952c"
      },
      "execution_count": 68,
      "outputs": [
        {
          "output_type": "stream",
          "name": "stdout",
          "text": [
            "[7]\n"
          ]
        }
      ]
    },
    {
      "cell_type": "code",
      "source": [
        "             #0  #1 #2\n",
        "a = np.array([[3, 4, 5],  #0\n",
        "              [5, 7, 8],  #1\n",
        "              [8, 9, 3],\n",
        "              [4,7,8]])\n",
        "print(a[2:3,1:3])"
      ],
      "metadata": {
        "colab": {
          "base_uri": "https://localhost:8080/"
        },
        "id": "pwXUCBroP3GX",
        "outputId": "ce1013d0-e66d-4aa2-ce83-adabd336dc3b"
      },
      "execution_count": 69,
      "outputs": [
        {
          "output_type": "stream",
          "name": "stdout",
          "text": [
            "[[9 3]]\n"
          ]
        }
      ]
    },
    {
      "cell_type": "code",
      "source": [
        "a = np.array([[13, 9, 35],  #0\n",
        "              [58, 74, 88],  #1\n",
        "              [88, 98, 3]]) #2\n",
        "print(a[1:3,1:2])"
      ],
      "metadata": {
        "colab": {
          "base_uri": "https://localhost:8080/"
        },
        "id": "MSUIj_7RP674",
        "outputId": "8292b01e-2150-43be-c2af-6ae749067bf7"
      },
      "execution_count": 70,
      "outputs": [
        {
          "output_type": "stream",
          "name": "stdout",
          "text": [
            "[[74]\n",
            " [98]]\n"
          ]
        }
      ]
    },
    {
      "cell_type": "code",
      "source": [
        "a = np.array([[[[13, 9, 35]]],  #0\n",
        "              [[[58, 74, 88]]],  #1\n",
        "              [[[88, 98, 3]]]]) #2\n",
        "print(a[0:1])"
      ],
      "metadata": {
        "colab": {
          "base_uri": "https://localhost:8080/"
        },
        "id": "Y6cu5bOsP-we",
        "outputId": "904bc4f8-7f31-4755-f785-7d80b0dfae11"
      },
      "execution_count": 71,
      "outputs": [
        {
          "output_type": "stream",
          "name": "stdout",
          "text": [
            "[[[[13  9 35]]]]\n"
          ]
        }
      ]
    }
  ]
}